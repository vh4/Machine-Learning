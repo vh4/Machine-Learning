{
  "nbformat": 4,
  "nbformat_minor": 0,
  "metadata": {
    "colab": {
      "name": "running notebook utama.ipynb",
      "provenance": [],
      "collapsed_sections": []
    },
    "kernelspec": {
      "name": "python3",
      "display_name": "Python 3"
    },
    "language_info": {
      "name": "python"
    }
  },
  "cells": [
    {
      "cell_type": "code",
      "source": [
        "#preprocessing data test"
      ],
      "metadata": {
        "id": "sg4WjrBX0HRO"
      },
      "execution_count": 28,
      "outputs": []
    },
    {
      "cell_type": "code",
      "source": [
        "!python2 preprocess.py test.csv"
      ],
      "metadata": {
        "id": "qJF8moMchs3-",
        "colab": {
          "base_uri": "https://localhost:8080/"
        },
        "outputId": "e4de86b9-c7c4-4794-9ef4-cacdd4bc5413"
      },
      "execution_count": 43,
      "outputs": [
        {
          "output_type": "stream",
          "name": "stdout",
          "text": [
            "Processing 300000/300000\n",
            "Saved processed tweets to: test-processed.csv\n"
          ]
        }
      ]
    },
    {
      "cell_type": "code",
      "source": [
        "#preprocessing data train"
      ],
      "metadata": {
        "id": "6SK5mqCtcDnW"
      },
      "execution_count": 44,
      "outputs": []
    },
    {
      "cell_type": "code",
      "source": [
        "!python2 preprocess.py train-processed.csv"
      ],
      "metadata": {
        "id": "p9xGztr7FukX",
        "colab": {
          "base_uri": "https://localhost:8080/"
        },
        "outputId": "d29e14b9-8d25-4232-f45d-ceaa0640ec85"
      },
      "execution_count": 45,
      "outputs": [
        {
          "output_type": "stream",
          "name": "stdout",
          "text": [
            "Processing 100000/100000\n",
            "Saved processed tweets to: train-processed-processed.csv\n"
          ]
        }
      ]
    },
    {
      "cell_type": "code",
      "source": [
        "#show statistic data train have preprocessed"
      ],
      "metadata": {
        "id": "f_1oJ--E0Nih"
      },
      "execution_count": null,
      "outputs": []
    },
    {
      "cell_type": "code",
      "source": [
        "!python2 stats.py train-processed.csv"
      ],
      "metadata": {
        "id": "_5GEzA_yvn8H",
        "colab": {
          "base_uri": "https://localhost:8080/"
        },
        "outputId": "11e6cdc3-465b-447b-df73-29d7c6ebb3a3"
      },
      "execution_count": 46,
      "outputs": [
        {
          "output_type": "stream",
          "name": "stdout",
          "text": [
            "Processing 100000/100000\n",
            "Calculating frequency distribution\n",
            "Saved uni-frequency distribution to train-processed-freqdist.pkl\n",
            "Saved bi-frequency distribution to train-processed-freqdist-bi.pkl\n",
            "\n",
            "[Analysis Statistics]\n",
            "Tweets => Total: 100000, Positive: 56462, Negative: 43538\n",
            "User Mentions => Total: 88958, Avg: 0.8896, Max: 12\n",
            "URLs => Total: 3602, Avg: 0.0360, Max: 4\n",
            "Emojis => Total: 633, Positive: 442, Negative: 191, Avg: 0.0063, Max: 3\n",
            "Words => Total: 1190790, Unique: 50335, Avg: 11.9079, Max: 40, Min: 0\n",
            "Bigrams => Total: 1091450, Unique: 384499, Avg: 10.9145\n"
          ]
        }
      ]
    },
    {
      "cell_type": "code",
      "source": [
        "#show prediction accuracy Model Machine Learning"
      ],
      "metadata": {
        "id": "TczpMpQc0Wqb"
      },
      "execution_count": null,
      "outputs": []
    },
    {
      "cell_type": "code",
      "source": [
        "!python2 models/baseline.py  TRAIN = True"
      ],
      "metadata": {
        "id": "mOS_3J7gw2_d",
        "colab": {
          "base_uri": "https://localhost:8080/"
        },
        "outputId": "d3b137f7-a637-4062-a096-892c97d82b23"
      },
      "execution_count": 47,
      "outputs": [
        {
          "output_type": "stream",
          "name": "stdout",
          "text": [
            "Correct = 65.32%\n"
          ]
        }
      ]
    },
    {
      "cell_type": "code",
      "source": [
        "!python2 models/randomforest.py  TRAIN = True"
      ],
      "metadata": {
        "id": "gsxHP_NVGEi5",
        "colab": {
          "base_uri": "https://localhost:8080/"
        },
        "outputId": "f2280103-20be-4657-d11b-365dcc1b5a05"
      },
      "execution_count": 48,
      "outputs": [
        {
          "output_type": "stream",
          "name": "stdout",
          "text": [
            "Generating feature vectors\n",
            "Processing 100000/100000\n",
            "\n",
            "Extracting features & training batches\n",
            "Processing 1/1/usr/local/lib/python2.7/dist-packages/sklearn/ensemble/forest.py:246: FutureWarning: The default value of n_estimators will change from 10 in version 0.20 to 100 in 0.22.\n",
            "  \"10 in version 0.20 to 100 in 0.22.\", FutureWarning)\n",
            "\n",
            "\n",
            "Testing\n",
            "Processing 1/1\n",
            "Correct: 7163/10000 = 71.6300 %\n"
          ]
        }
      ]
    },
    {
      "cell_type": "code",
      "source": [
        "!python2 models/naivebayes.py  TRAIN = True"
      ],
      "metadata": {
        "id": "DzvQtxGlxlat",
        "colab": {
          "base_uri": "https://localhost:8080/"
        },
        "outputId": "b4929c28-ada9-42ef-d876-68b75011eabc"
      },
      "execution_count": 49,
      "outputs": [
        {
          "output_type": "stream",
          "name": "stdout",
          "text": [
            "Generating feature vectors\n",
            "Processing 100000/100000\n",
            "\n",
            "Extracting features & training batches\n",
            "Processing 1/1\n",
            "\n",
            "Testing\n",
            "Processing 1/1\n",
            "Correct: 7680/10000 = 76.8000 %\n"
          ]
        }
      ]
    },
    {
      "cell_type": "code",
      "source": [
        "!python2 models/decisiontree.py  TRAIN = True"
      ],
      "metadata": {
        "id": "-zvYgUAe26Az",
        "colab": {
          "base_uri": "https://localhost:8080/"
        },
        "outputId": "229b9cc1-7146-4bea-cd3e-4822016d6c59"
      },
      "execution_count": 50,
      "outputs": [
        {
          "output_type": "stream",
          "name": "stdout",
          "text": [
            "Generating feature vectors\n",
            "Processing 100000/100000\n",
            "\n",
            "Extracting features & training batches\n",
            "Processing 1/1\n",
            "\n",
            "Testing\n",
            "Processing 1/1\n",
            "Correct: 6823/10000 = 68.2300 %\n"
          ]
        }
      ]
    },
    {
      "cell_type": "code",
      "source": [
        "!python2 models/svm.py  TRAIN = True"
      ],
      "metadata": {
        "id": "SnxUfo6H3BAZ",
        "colab": {
          "base_uri": "https://localhost:8080/"
        },
        "outputId": "2e84f4a0-5d36-4937-b0f9-bf3a14f4aa58"
      },
      "execution_count": 51,
      "outputs": [
        {
          "output_type": "stream",
          "name": "stdout",
          "text": [
            "Generating feature vectors\n",
            "Processing 100000/100000\n",
            "\n",
            "Extracting features & training batches\n",
            "Processing 1/1\n",
            "\n",
            "Testing\n",
            "Processing 1/1\n",
            "Correct: 7831/10000 = 78.3100 %\n"
          ]
        }
      ]
    },
    {
      "cell_type": "code",
      "source": [
        "import utils\n",
        "import random\n",
        "import numpy as np\n",
        "from xgboost import XGBClassifier\n",
        "from scipy.sparse import lil_matrix\n",
        "from sklearn.feature_extraction.text import TfidfTransformer\n",
        "\n",
        "# Performs classification using XGBoost.\n",
        "\n",
        "\n",
        "FREQ_DIST_FILE = '/content/train-processed-freqdist.pkl'\n",
        "BI_FREQ_DIST_FILE = '/content/train-processed-freqdist-bi.pkl'\n",
        "TRAIN_PROCESSED_FILE = '/content/train-processed.csv'\n",
        "TEST_PROCESSED_FILE = '/content/test-processed.csv'\n",
        "TRAIN = True\n",
        "UNIGRAM_SIZE = 1500\n",
        "VOCAB_SIZE = UNIGRAM_SIZE\n",
        "USE_BIGRAMS = True\n",
        "if USE_BIGRAMS:\n",
        "    BIGRAM_SIZE = 100\n",
        "    VOCAB_SIZE = UNIGRAM_SIZE + BIGRAM_SIZE\n",
        "FEAT_TYPE = 'frequency'\n",
        "\n",
        "\n",
        "def get_feature_vector(tweet):\n",
        "    uni_feature_vector = []\n",
        "    bi_feature_vector = []\n",
        "    words = tweet.split()\n",
        "    for i in range(len(words) - 1):\n",
        "        word = words[i]\n",
        "        next_word = words[i + 1]\n",
        "        if unigrams.get(word):\n",
        "            uni_feature_vector.append(word)\n",
        "        if USE_BIGRAMS:\n",
        "            if bigrams.get((word, next_word)):\n",
        "                bi_feature_vector.append((word, next_word))\n",
        "    if len(words) >= 1:\n",
        "        if unigrams.get(words[-1]):\n",
        "            uni_feature_vector.append(words[-1])\n",
        "    return uni_feature_vector, bi_feature_vector\n",
        "\n",
        "\n",
        "def extract_features(tweets, batch_size=500, test_file=True, feat_type='presence'):\n",
        "    num_batches = int(np.ceil(len(tweets) / float(batch_size)))\n",
        "    for i in range(num_batches):\n",
        "        batch = tweets[i * batch_size: (i + 1) * batch_size]\n",
        "        features = lil_matrix((batch_size, VOCAB_SIZE))\n",
        "        labels = np.zeros(batch_size)\n",
        "        for j, tweet in enumerate(batch):\n",
        "            if test_file:\n",
        "                tweet_words = tweet[1][0]\n",
        "                tweet_bigrams = tweet[1][1]\n",
        "            else:\n",
        "                tweet_words = tweet[2][0]\n",
        "                tweet_bigrams = tweet[2][1]\n",
        "                labels[j] = tweet[1]\n",
        "            if feat_type == 'presence':\n",
        "                tweet_words = set(tweet_words)\n",
        "                tweet_bigrams = set(tweet_bigrams)\n",
        "            for word in tweet_words:\n",
        "                idx = unigrams.get(word)\n",
        "                if idx:\n",
        "                    features[j, idx] += 1\n",
        "            if USE_BIGRAMS:\n",
        "                for bigram in tweet_bigrams:\n",
        "                    idx = bigrams.get(bigram)\n",
        "                    if idx:\n",
        "                        features[j, UNIGRAM_SIZE + idx] += 1\n",
        "        yield features, labels\n",
        "\n",
        "\n",
        "def apply_tf_idf(X):\n",
        "    transformer = TfidfTransformer(smooth_idf=True, sublinear_tf=True, use_idf=True)\n",
        "    transformer.fit(X)\n",
        "    return transformer\n",
        "\n",
        "\n",
        "def process_tweets(csv_file, test_file=True):\n",
        "    \"\"\"Returns a list of tuples of type (tweet_id, feature_vector)\n",
        "            or (tweet_id, sentiment, feature_vector)\n",
        "    Args:\n",
        "        csv_file (str): Name of processed csv file generated by preprocess.py\n",
        "        test_file (bool, optional): If processing test file\n",
        "    Returns:\n",
        "        list: Of tuples\n",
        "    \"\"\"\n",
        "    tweets = []\n",
        "    print ('Generating feature vectors')\n",
        "    with open(csv_file, 'r') as csv:\n",
        "        lines = csv.readlines()\n",
        "        total = len(lines)\n",
        "        for i, line in enumerate(lines):\n",
        "            if test_file:\n",
        "                tweet_id, tweet = line.split(',')\n",
        "            else:\n",
        "                tweet_id, sentiment, tweet = line.split(',')\n",
        "            feature_vector = get_feature_vector(tweet)\n",
        "            if test_file:\n",
        "                tweets.append((tweet_id, feature_vector))\n",
        "            else:\n",
        "                tweets.append((tweet_id, int(sentiment), feature_vector))\n",
        "            utils.write_status(i + 1, total)\n",
        "    print ('\\n')\n",
        "    return tweets\n",
        "\n",
        "\n",
        "if __name__ == '__main__':\n",
        "    np.random.seed(20)\n",
        "    unigrams = utils.top_n_words(FREQ_DIST_FILE, UNIGRAM_SIZE)\n",
        "    if USE_BIGRAMS:\n",
        "        bigrams = utils.top_n_bigrams(BI_FREQ_DIST_FILE, BIGRAM_SIZE)\n",
        "    tweets = process_tweets(TRAIN_PROCESSED_FILE, test_file=False)\n",
        "    if TRAIN:\n",
        "        train_tweets, val_tweets = utils.split_data(tweets)\n",
        "    else:\n",
        "        random.shuffle(tweets)\n",
        "        train_tweets = tweets\n",
        "    del tweets\n",
        "    print ('Extracting features & training batches')\n",
        "    clf = XGBClassifier(max_depth=25, silent=False, n_estimators=20)\n",
        "    batch_size = len(train_tweets)\n",
        "    i = 1\n",
        "    n_train_batches = int(np.ceil(len(train_tweets) / float(batch_size)))\n",
        "    for training_set_X, training_set_y in extract_features(train_tweets, test_file=False, feat_type=FEAT_TYPE, batch_size=batch_size):\n",
        "        utils.write_status(i, n_train_batches)\n",
        "        i += 1\n",
        "        if FEAT_TYPE == 'frequency':\n",
        "            tfidf = apply_tf_idf(training_set_X)\n",
        "            training_set_X = tfidf.transform(training_set_X)\n",
        "        clf.fit(training_set_X, training_set_y)\n",
        "    print ('\\n')\n",
        "    print ('Testing')\n",
        "    if TRAIN:\n",
        "        correct, total = 0, len(val_tweets)\n",
        "        i = 1\n",
        "        batch_size = len(val_tweets)\n",
        "        n_val_batches = int(np.ceil(len(val_tweets) / float(batch_size)))\n",
        "        for val_set_X, val_set_y in extract_features(val_tweets, test_file=False, feat_type=FEAT_TYPE, batch_size=batch_size):\n",
        "            if FEAT_TYPE == 'frequency':\n",
        "                val_set_X = tfidf.transform(val_set_X)\n",
        "            prediction = clf.predict(val_set_X)\n",
        "            correct += np.sum(prediction == val_set_y)\n",
        "            utils.write_status(i, n_val_batches)\n",
        "            i += 1\n",
        "        print ('\\nCorrect: %d/%d = %.4f %%' % (correct, total, correct * 100. / total))\n",
        "    else:\n",
        "        del train_tweets\n",
        "        test_tweets = process_tweets(TEST_PROCESSED_FILE, test_file=True)\n",
        "        n_test_batches = int(np.ceil(len(test_tweets) / float(batch_size)))\n",
        "        predictions = np.array([])\n",
        "        print ('Predicting batches')\n",
        "        i = 1\n",
        "        for test_set_X, _ in extract_features(test_tweets, test_file=True, feat_type=FEAT_TYPE):\n",
        "            if FEAT_TYPE == 'frequency':\n",
        "                test_set_X = tfidf.transform(test_set_X)\n",
        "            prediction = clf.predict(test_set_X)\n",
        "            predictions = np.concatenate((predictions, prediction))\n",
        "            utils.write_status(i, n_test_batches)\n",
        "            i += 1\n",
        "        predictions = [(str(j), int(predictions[j]))\n",
        "                       for j in range(len(test_tweets))]\n",
        "        utils.save_results_to_csv(predictions, 'xgboost.csv')\n",
        "        print ('\\nSaved to xgboost.csv')\n"
      ],
      "metadata": {
        "id": "kAG7Hejq4zEF",
        "colab": {
          "base_uri": "https://localhost:8080/"
        },
        "outputId": "3a5f684f-80de-4b72-d2e0-98efc57f49a3"
      },
      "execution_count": 58,
      "outputs": [
        {
          "output_type": "stream",
          "name": "stdout",
          "text": [
            "Generating feature vectors\n",
            "Processing 100000/100000\n",
            "\n",
            "Extracting features & training batches\n",
            "Processing 1/1\n",
            "\n",
            "Testing\n",
            "Processing 1/1\n",
            "Correct: 7141/10000 = 71.4100 %\n"
          ]
        }
      ]
    },
    {
      "cell_type": "code",
      "source": [
        "!python models/neuralnet.py"
      ],
      "metadata": {
        "id": "ygLmZaMFZp51",
        "colab": {
          "base_uri": "https://localhost:8080/"
        },
        "outputId": "e5ca42a4-7810-4bfb-b7cb-efd146cc2136"
      },
      "execution_count": 65,
      "outputs": [
        {
          "output_type": "stream",
          "name": "stdout",
          "text": [
            "Generating feature vectors\n",
            "Processing 100000/100000\n",
            "\n",
            "Extracting features & training batches\n",
            "2022-01-21 09:18:22.877911: E tensorflow/stream_executor/cuda/cuda_driver.cc:271] failed call to cuInit: CUDA_ERROR_NO_DEVICE: no CUDA-capable device is detected\n",
            "Iteration 180/180, loss:0.5590, acc:0.7120\n",
            "Epoch: 1, val_acc:0.7298\n",
            "Accuracy improved from 0.0000 to 0.7298, saving model\n",
            "Iteration 180/180, loss:0.5200, acc:0.7500\n",
            "Epoch: 2, val_acc:0.7609\n",
            "Accuracy improved from 0.7298 to 0.7609, saving model\n",
            "Testing\n",
            "Generating feature vectors\n",
            "Processing 300000/300000\n",
            "\n",
            "Predicting batches\n",
            "Processing 600/600\n",
            "Saved to 1layerneuralnet.csv\n"
          ]
        }
      ]
    },
    {
      "cell_type": "code",
      "source": [
        "#################################################  #################################################\n",
        "#################################################  #################################################\n",
        "#################################################  #################################################\n",
        "#################################################  #################################################\n",
        "#################################################  #################################################\n",
        "#################################################  #################################################\n",
        "#################################################  #################################################\n",
        "\n",
        "############################################################# installing glove-twitter-word-vocabolary ################################################################################"
      ],
      "metadata": {
        "id": "GosjOjYHZrbd"
      },
      "execution_count": null,
      "outputs": []
    },
    {
      "cell_type": "code",
      "source": [
        "!wget http://nlp.stanford.edu/data/glove.6B.zip \n"
      ],
      "metadata": {
        "id": "61W2UQL_71Tx",
        "colab": {
          "base_uri": "https://localhost:8080/"
        },
        "outputId": "f3dec978-a1a7-4e29-86f1-0f3f6137353e"
      },
      "execution_count": 66,
      "outputs": [
        {
          "output_type": "stream",
          "name": "stdout",
          "text": [
            "--2022-01-21 09:21:07--  http://nlp.stanford.edu/data/glove.6B.zip\n",
            "Resolving nlp.stanford.edu (nlp.stanford.edu)... 171.64.67.140\n",
            "Connecting to nlp.stanford.edu (nlp.stanford.edu)|171.64.67.140|:80... connected.\n",
            "HTTP request sent, awaiting response... 302 Found\n",
            "Location: https://nlp.stanford.edu/data/glove.6B.zip [following]\n",
            "--2022-01-21 09:21:07--  https://nlp.stanford.edu/data/glove.6B.zip\n",
            "Connecting to nlp.stanford.edu (nlp.stanford.edu)|171.64.67.140|:443... connected.\n",
            "HTTP request sent, awaiting response... 301 Moved Permanently\n",
            "Location: http://downloads.cs.stanford.edu/nlp/data/glove.6B.zip [following]\n",
            "--2022-01-21 09:21:07--  http://downloads.cs.stanford.edu/nlp/data/glove.6B.zip\n",
            "Resolving downloads.cs.stanford.edu (downloads.cs.stanford.edu)... 171.64.64.22\n",
            "Connecting to downloads.cs.stanford.edu (downloads.cs.stanford.edu)|171.64.64.22|:80... connected.\n",
            "HTTP request sent, awaiting response... 200 OK\n",
            "Length: 862182613 (822M) [application/zip]\n",
            "Saving to: ‘glove.6B.zip’\n",
            "\n",
            "glove.6B.zip        100%[===================>] 822.24M  5.11MB/s    in 2m 40s  \n",
            "\n",
            "2022-01-21 09:23:47 (5.14 MB/s) - ‘glove.6B.zip’ saved [862182613/862182613]\n",
            "\n",
            "/content/drive/MyDrive/FINAL: Scheme missing.\n",
            "--2022-01-21 09:23:47--  http://exam/\n",
            "Resolving exam (exam)... failed: Name or service not known.\n",
            "wget: unable to resolve host address ‘exam’\n",
            "FINISHED --2022-01-21 09:23:48--\n",
            "Total wall clock time: 2m 40s\n",
            "Downloaded: 1 files, 822M in 2m 40s (5.14 MB/s)\n"
          ]
        }
      ]
    },
    {
      "cell_type": "code",
      "source": [
        "!unzip /content/dataset/glove*.zip\n"
      ],
      "metadata": {
        "id": "8U69NrrSAWVA",
        "colab": {
          "base_uri": "https://localhost:8080/"
        },
        "outputId": "b7af6d62-0536-4eec-91ac-27340fd7071b"
      },
      "execution_count": 67,
      "outputs": [
        {
          "output_type": "stream",
          "name": "stdout",
          "text": [
            "Archive:  /content/dataset/glove.6B.zip\n",
            "  inflating: glove.6B.50d.txt        \n",
            "  inflating: glove.6B.100d.txt       \n",
            "  inflating: glove.6B.200d.txt       \n",
            "  inflating: glove.6B.300d.txt       \n"
          ]
        }
      ]
    },
    {
      "cell_type": "code",
      "source": [
        "#################################################  #################################################\n",
        "#################################################  #################################################\n",
        "#################################################  #################################################\n",
        "#################################################  #################################################\n",
        "#################################################  #################################################\n",
        "#################################################  #################################################\n",
        "#################################################  #################################################\n",
        "\n",
        "############################################################# DEEP LEARNING CNN AND LSTM FOR NLP  ################################################################################"
      ],
      "metadata": {
        "id": "-CN1L1w1E2Zv"
      },
      "execution_count": null,
      "outputs": []
    },
    {
      "cell_type": "code",
      "source": [
        "!python models/cnn.py"
      ],
      "metadata": {
        "id": "g9sjya39Ainl",
        "colab": {
          "base_uri": "https://localhost:8080/"
        },
        "outputId": "8f077d14-b571-4425-d888-677ddca84faa"
      },
      "execution_count": 84,
      "outputs": [
        {
          "output_type": "stream",
          "name": "stdout",
          "text": [
            "Looking for GLOVE seeds\n",
            "Processing 400000/0\n",
            "\n",
            "Generating feature vectors\n",
            "Processing 100000/100000\n",
            "\n",
            "2022-01-21 09:47:00.454780: E tensorflow/stream_executor/cuda/cuda_driver.cc:271] failed call to cuInit: CUDA_ERROR_NO_DEVICE: no CUDA-capable device is detected\n",
            "Epoch 1/5\n",
            "200/200 [==============================] - 228s 1s/step - loss: 0.6253 - accuracy: 0.6382 - val_loss: 0.5169 - val_accuracy: 0.7446\n",
            "Epoch 2/5\n",
            "200/200 [==============================] - 242s 1s/step - loss: 0.5254 - accuracy: 0.7352 - val_loss: 0.4912 - val_accuracy: 0.7649\n",
            "Epoch 3/5\n",
            "200/200 [==============================] - 236s 1s/step - loss: 0.4986 - accuracy: 0.7541 - val_loss: 0.4733 - val_accuracy: 0.7724\n",
            "Epoch 4/5\n",
            "200/200 [==============================] - 225s 1s/step - loss: 0.4724 - accuracy: 0.7736 - val_loss: 0.4726 - val_accuracy: 0.7748\n",
            "Epoch 5/5\n",
            "200/200 [==============================] - 222s 1s/step - loss: 0.4525 - accuracy: 0.7851 - val_loss: 0.4633 - val_accuracy: 0.7778\n"
          ]
        }
      ]
    },
    {
      "cell_type": "code",
      "source": [
        "#diatas CNN dengan 5 epochs, 704 steps per epoch."
      ],
      "metadata": {
        "id": "frjjTXqU6UML"
      },
      "execution_count": null,
      "outputs": []
    },
    {
      "cell_type": "code",
      "source": [
        "!python models/lstm.py"
      ],
      "metadata": {
        "id": "jRoJNW7rcTYY",
        "colab": {
          "base_uri": "https://localhost:8080/"
        },
        "outputId": "bcab9ebf-2ee2-4b7f-9972-ba7383fe7017"
      },
      "execution_count": 72,
      "outputs": [
        {
          "output_type": "stream",
          "name": "stdout",
          "text": [
            "Correct = 65.32%\n"
          ]
        }
      ]
    },
    {
      "cell_type": "code",
      "source": [
        "#diatas dengan 3 epochs dan 200 steps per epochs"
      ],
      "metadata": {
        "id": "WnQA7XRp67IG"
      },
      "execution_count": 73,
      "outputs": []
    },
    {
      "cell_type": "code",
      "source": [
        "#################################################  #################################################\n",
        "#################################################  #################################################\n",
        "#################################################  #################################################\n",
        "#################################################  #################################################\n",
        "#################################################  #################################################\n",
        "#################################################  #################################################\n",
        "#################################################  #################################################\n",
        "\n",
        "############################################################# PLOTING INFORMATION REPORT ################################################################################"
      ],
      "metadata": {
        "id": "E41HURTH8GEY"
      },
      "execution_count": null,
      "outputs": []
    },
    {
      "cell_type": "code",
      "source": [
        "import matplotlib.pyplot as plt\n",
        "import numpy as np\n",
        "import utils\n",
        "import pickle\n",
        "%matplotlib inline  "
      ],
      "metadata": {
        "id": "aX3Z8Yjn8DfQ"
      },
      "execution_count": 74,
      "outputs": []
    },
    {
      "cell_type": "code",
      "source": [
        "FREQ_DIST_FILE = '/content/train-processed-freqdist.pkl'\n",
        "BI_FREQ_DIST_FILE = '/content/train-processed-freqdist-bi.pkl'"
      ],
      "metadata": {
        "id": "IeF3i9IS8I-E"
      },
      "execution_count": 75,
      "outputs": []
    },
    {
      "cell_type": "code",
      "source": [
        "with open(FREQ_DIST_FILE, 'rb') as pkl_file:\n",
        "    freq_dist = pickle.load(pkl_file)\n",
        "unigrams = freq_dist.most_common(20)\n",
        "unigrams"
      ],
      "metadata": {
        "id": "yj3GIreX8Kao",
        "colab": {
          "base_uri": "https://localhost:8080/"
        },
        "outputId": "dfe0cd4a-b195-4831-fefb-c90b473800da"
      },
      "execution_count": 77,
      "outputs": [
        {
          "output_type": "execute_result",
          "data": {
            "text/plain": [
              "[('i', 50024),\n",
              " ('the', 29724),\n",
              " ('to', 29521),\n",
              " ('you', 26859),\n",
              " ('a', 22040),\n",
              " ('it', 17428),\n",
              " ('and', 16325),\n",
              " ('my', 13758),\n",
              " ('for', 12530),\n",
              " ('is', 12029),\n",
              " ('in', 11793),\n",
              " ('that', 11399),\n",
              " ('im', 11182),\n",
              " ('me', 10972),\n",
              " ('of', 10585),\n",
              " ('have', 9950),\n",
              " ('on', 9612),\n",
              " ('so', 9132),\n",
              " ('but', 9018),\n",
              " ('be', 7431)]"
            ]
          },
          "metadata": {},
          "execution_count": 77
        }
      ]
    },
    {
      "cell_type": "code",
      "source": [
        "plt.figure(1, [10, 7])\n",
        "x = np.array(range(0, 40, 2))\n",
        "y = np.array([i[1] for i in unigrams])\n",
        "my_xticks = [i[0] for i in unigrams]\n",
        "plt.xticks(x, my_xticks, rotation=90)\n",
        "plt.plot(x, y)\n",
        "plt.show()"
      ],
      "metadata": {
        "id": "XGAFKjVB8MLi",
        "colab": {
          "base_uri": "https://localhost:8080/",
          "height": 443
        },
        "outputId": "d9dd53de-df67-4199-e7a9-330bfcdfa3d1"
      },
      "execution_count": 78,
      "outputs": [
        {
          "output_type": "display_data",
          "data": {
            "image/png": "[encoded data removed]",
            "text/plain": [
              "<Figure size 720x504 with 1 Axes>"
            ]
          },
          "metadata": {
            "needs_background": "light"
          }
        }
      ]
    },
    {
      "cell_type": "code",
      "source": [
        "with open(BI_FREQ_DIST_FILE, 'rb') as pkl_file:\n",
        "    freq_dist = pickle.load(pkl_file)\n",
        "bigrams = freq_dist.most_common(20)\n",
        "bigrams"
      ],
      "metadata": {
        "id": "GXhThPAK8Nqp",
        "colab": {
          "base_uri": "https://localhost:8080/"
        },
        "outputId": "fa883071-d843-4d05-8fc8-bba8bda689c1"
      },
      "execution_count": 79,
      "outputs": [
        {
          "output_type": "execute_result",
          "data": {
            "text/plain": [
              "[(('i', 'have'), 2442),\n",
              " (('in', 'the'), 2371),\n",
              " (('i', 'was'), 2271),\n",
              " (('for', 'the'), 2163),\n",
              " (('i', 'dont'), 2073),\n",
              " (('i', 'am'), 2047),\n",
              " (('have', 'a'), 1923),\n",
              " (('but', 'i'), 1902),\n",
              " (('i', 'love'), 1876),\n",
              " (('i', 'know'), 1871),\n",
              " (('on', 'the'), 1742),\n",
              " (('to', 'be'), 1693),\n",
              " (('have', 'to'), 1684),\n",
              " (('i', 'think'), 1682),\n",
              " (('and', 'i'), 1615),\n",
              " (('i', 'cant'), 1587),\n",
              " (('going', 'to'), 1585),\n",
              " (('it', 'was'), 1535),\n",
              " (('of', 'the'), 1455),\n",
              " (('thanks', 'for'), 1379)]"
            ]
          },
          "metadata": {},
          "execution_count": 79
        }
      ]
    },
    {
      "cell_type": "code",
      "source": [
        "plt.figure(1, [10, 7])\n",
        "x = np.array(range(0, 40, 2))\n",
        "y = np.array([i[1] for i in bigrams])\n",
        "my_xticks = [', '.join(i[0]) for i in bigrams]\n",
        "plt.xticks(x, my_xticks, rotation=90)\n",
        "plt.plot(x, y)\n",
        "plt.show()"
      ],
      "metadata": {
        "id": "PMYf3s8_8PTc",
        "colab": {
          "base_uri": "https://localhost:8080/",
          "height": 472
        },
        "outputId": "accad09b-7cd1-44c0-82d2-91381e80e548"
      },
      "execution_count": 80,
      "outputs": [
        {
          "output_type": "display_data",
          "data": {
            "image/png": "[encoded data removed]",
            "text/plain": [
              "<Figure size 720x504 with 1 Axes>"
            ]
          },
          "metadata": {
            "needs_background": "light"
          }
        }
      ]
    },
    {
      "cell_type": "code",
      "source": [
        "with open(FREQ_DIST_FILE, 'rb') as pkl_file:\n",
        "    freq_dist = pickle.load(pkl_file)\n",
        "unigrams = freq_dist.most_common(100)\n",
        "log_ranks = np.log(range(1, 101))\n",
        "log_freqs = np.log([i[1] for i in unigrams])\n",
        "z = np.polyfit(log_ranks, log_freqs, 1)\n",
        "p = np.poly1d(z)\n",
        "p"
      ],
      "metadata": {
        "id": "OqrX5_D-8Q-R",
        "colab": {
          "base_uri": "https://localhost:8080/"
        },
        "outputId": "c2d28ba5-16ac-4540-b97a-69681eeb3bc2"
      },
      "execution_count": 81,
      "outputs": [
        {
          "output_type": "execute_result",
          "data": {
            "text/plain": [
              "poly1d([-0.76603161, 11.18429205])"
            ]
          },
          "metadata": {},
          "execution_count": 81
        }
      ]
    },
    {
      "cell_type": "code",
      "source": [
        "plt.figure(3, [8,6])\n",
        "plt.plot(log_ranks, log_freqs, 'ro')\n",
        "plt.plot(log_ranks,p(log_ranks),'b-')\n",
        "plt.xlabel('log (Rank)')\n",
        "plt.ylabel('log (Freqeuncy)')\n",
        "plt.title('Zipf\\'s Law')\n",
        "plt.show()"
      ],
      "metadata": {
        "id": "3sO9Tfwn8S4k",
        "colab": {
          "base_uri": "https://localhost:8080/",
          "height": 404
        },
        "outputId": "6495c533-c2e4-435b-d880-93268ca3435a"
      },
      "execution_count": 82,
      "outputs": [
        {
          "output_type": "display_data",
          "data": {
            "image/png": "[encoded data removed]",
            "text/plain": [
              "<Figure size 576x432 with 1 Axes>"
            ]
          },
          "metadata": {
            "needs_background": "light"
          }
        }
      ]
    },
    {
      "cell_type": "code",
      "source": [
        "classifiers = ['Baseline', 'Naive Bayes', 'MaxEnt', 'Decision Tree', 'Random Forest', 'XGBoost', 'SVM', 'MLP', 'LSTM', 'CNN', 'Ensemble']\n",
        "accuracies = [63.48, 79.68, 81.52, 68.1, 77.21, 78.72, 81.55, 81.7, 83.00, 83.34, 83.58]\n",
        "plt.figure(4, [8,6])\n",
        "plt.bar(range(len(classifiers)), accuracies, align='center', alpha=0.5)\n",
        "plt.xticks(range(len(classifiers)), classifiers, rotation=90)\n",
        "plt.ylabel('Accuracy')\n",
        "plt.title('Comparison of Various Classifiers')\n",
        "plt.ylim([60, 90])\n",
        "plt.show()"
      ],
      "metadata": {
        "id": "6iQP9H178UTO",
        "colab": {
          "base_uri": "https://localhost:8080/",
          "height": 455
        },
        "outputId": "c7dcd79d-c219-43cb-ca9a-f123df0c6d52"
      },
      "execution_count": 83,
      "outputs": [
        {
          "output_type": "display_data",
          "data": {
            "image/png": "[encoded data removed]",
            "text/plain": [
              "<Figure size 576x432 with 1 Axes>"
            ]
          },
          "metadata": {
            "needs_background": "light"
          }
        }
      ]
    },
    {
      "cell_type": "code",
      "source": [
        ""
      ],
      "metadata": {
        "id": "IVtb1eBf8WMl"
      },
      "execution_count": null,
      "outputs": []
    }
  ]
}