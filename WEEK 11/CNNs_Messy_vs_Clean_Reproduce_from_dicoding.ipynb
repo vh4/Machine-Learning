{
  "nbformat": 4,
  "nbformat_minor": 0,
  "metadata": {
    "colab": {
      "name": "CNNs Messy vs Clean Reproduce from dicoding.ipynb",
      "provenance": [],
      "collapsed_sections": []
    },
    "kernelspec": {
      "name": "python3",
      "display_name": "Python 3"
    },
    "language_info": {
      "name": "python"
    }
  },
  "cells": [
    {
      "cell_type": "code",
      "metadata": {
        "id": "-VWHFhRXLu97"
      },
      "source": [
        "#  Image Classification using Keras Library"
      ],
      "execution_count": null,
      "outputs": []
    },
    {
      "cell_type": "code",
      "metadata": {
        "colab": {
          "base_uri": "https://localhost:8080/"
        },
        "id": "m5aJnDQ0L4Gi",
        "outputId": "832f851e-131f-4d9a-8afc-c7a3523105bd"
      },
      "source": [
        "!wget --no-check-certificate \\\n",
        "  https://dicodingacademy.blob.core.windows.net/picodiploma/ml_pemula_academy/messy-vs-clean-room.zip \\\n",
        "  -O messy_vs_clean_room.zip"
      ],
      "execution_count": null,
      "outputs": [
        {
          "output_type": "stream",
          "text": [
            "--2021-05-11 14:12:42--  https://dicodingacademy.blob.core.windows.net/picodiploma/ml_pemula_academy/messy-vs-clean-room.zip\n",
            "Resolving dicodingacademy.blob.core.windows.net (dicodingacademy.blob.core.windows.net)... 52.239.197.36\n",
            "Connecting to dicodingacademy.blob.core.windows.net (dicodingacademy.blob.core.windows.net)|52.239.197.36|:443... connected.\n",
            "HTTP request sent, awaiting response... 200 OK\n",
            "Length: 70392746 (67M) [application/zip]\n",
            "Saving to: ‘messy_vs_clean_room.zip’\n",
            "\n",
            "messy_vs_clean_room 100%[===================>]  67.13M  4.29MB/s    in 15s     \n",
            "\n",
            "2021-05-11 14:12:58 (4.61 MB/s) - ‘messy_vs_clean_room.zip’ saved [70392746/70392746]\n",
            "\n"
          ],
          "name": "stdout"
        }
      ]
    },
    {
      "cell_type": "code",
      "metadata": {
        "id": "wLOM2RTQN9J5"
      },
      "source": [
        "import zipfile,os"
      ],
      "execution_count": null,
      "outputs": []
    },
    {
      "cell_type": "code",
      "metadata": {
        "id": "CzHwKS_EMS5_"
      },
      "source": [
        "local_zip = 'messy_vs_clean_room.zip'"
      ],
      "execution_count": null,
      "outputs": []
    },
    {
      "cell_type": "code",
      "metadata": {
        "id": "RPEZsUkGOJuY"
      },
      "source": [
        "zip_ref = zipfile.ZipFile(local_zip, 'r')\n",
        "zip_ref.extractall('/tmp')\n",
        "zip_ref.close()"
      ],
      "execution_count": null,
      "outputs": []
    },
    {
      "cell_type": "code",
      "metadata": {
        "id": "x0oaAiwJOQgP"
      },
      "source": [
        "base_dir = '/tmp/images'\n",
        "train_dir = os.path.join(base_dir, 'train')\n",
        "validation_dir = os.path.join(base_dir, 'val')"
      ],
      "execution_count": null,
      "outputs": []
    },
    {
      "cell_type": "code",
      "metadata": {
        "id": "kxnZKIx7PV4X"
      },
      "source": [
        "import tensorflow as tf"
      ],
      "execution_count": null,
      "outputs": []
    },
    {
      "cell_type": "code",
      "metadata": {
        "id": "x919MwU4OZHI"
      },
      "source": [
        "# membuat direktori ruangan rapi pada direktori data training\n",
        "train_kotor_dir = os.path.join(train_dir, 'bersih')"
      ],
      "execution_count": null,
      "outputs": []
    },
    {
      "cell_type": "code",
      "metadata": {
        "id": "D4OoJ5MiPodX"
      },
      "source": [
        "# membuat direktori ruangan berantakan pada direktori data training\n",
        "train_bersih_dir = os.path.join(train_dir, 'kotor')"
      ],
      "execution_count": null,
      "outputs": []
    },
    {
      "cell_type": "code",
      "metadata": {
        "id": "CjbiYDI_PrdP"
      },
      "source": [
        "# membuat direktori ruangan rapi pada direktori data validasi\n",
        "validation_bersih_dir = os.path.join(validation_dir, 'bersih')"
      ],
      "execution_count": null,
      "outputs": []
    },
    {
      "cell_type": "code",
      "metadata": {
        "id": "bfwd3Q1XP0an"
      },
      "source": [
        "# membuat direktori ruangan berantakan pada direktori data validasi\n",
        "c = os.path.join(validation_dir, 'kotor')"
      ],
      "execution_count": null,
      "outputs": []
    },
    {
      "cell_type": "code",
      "metadata": {
        "colab": {
          "base_uri": "https://localhost:8080/",
          "height": 54
        },
        "id": "unOT3BUVQF7Q",
        "outputId": "227d5639-365c-40b8-bf10-43b303abc945"
      },
      "source": [
        "#Langkah selanjutnya adalah kita membuat sebuah objek ImageDataGenerator untuk data training dan data testing\n",
        "\"\"\"\n",
        "\n",
        "Image data generator adalah sebuah fungsi yang sangat berguna untuk mempersiapkan data latih dan data testing yang akan diberikan ke model. \n",
        "Beberapa kemudahan yang disediakan Image data generator adalah, preprocessing data, pelabelan sampel otomatis, dan augmentasi gambar.\n",
        "\n",
        "\"\"\""
      ],
      "execution_count": null,
      "outputs": [
        {
          "output_type": "execute_result",
          "data": {
            "application/vnd.google.colaboratory.intrinsic+json": {
              "type": "string"
            },
            "text/plain": [
              "'\\n\\nImage data generator adalah sebuah fungsi yang sangat berguna untuk mempersiapkan data latih dan data testing yang akan diberikan ke model. \\nBeberapa kemudahan yang disediakan Image data generator adalah, preprocessing data, pelabelan sampel otomatis, dan augmentasi gambar.\\n\\n'"
            ]
          },
          "metadata": {
            "tags": []
          },
          "execution_count": 13
        }
      ]
    },
    {
      "cell_type": "code",
      "metadata": {
        "id": "bvwq38h9YkLv"
      },
      "source": [
        "from tensorflow.keras.preprocessing.image import ImageDataGenerator\n"
      ],
      "execution_count": null,
      "outputs": []
    },
    {
      "cell_type": "code",
      "metadata": {
        "id": "mi745r7BQOT3"
      },
      "source": [
        "train_datagen = ImageDataGenerator(\n",
        "                    rescale=1./255,\n",
        "                    rotation_range=20,\n",
        "                    horizontal_flip=True,\n",
        "                    shear_range = 0.2,\n",
        "                    fill_mode = 'nearest')\n",
        " \n",
        "test_datagen = ImageDataGenerator(\n",
        "                    rescale=1./255,\n",
        "                    rotation_range=20,\n",
        "                    horizontal_flip=True,\n",
        "                    shear_range = 0.2,\n",
        "                    fill_mode = 'nearest')"
      ],
      "execution_count": null,
      "outputs": []
    },
    {
      "cell_type": "code",
      "metadata": {
        "id": "PqYElmOhYw0g"
      },
      "source": [
        "# Lalu kita dapat menggunakan objek image data generator sebelumnya untuk mempersiapkan data latih yang akan dipelajari oleh model."
      ],
      "execution_count": null,
      "outputs": []
    },
    {
      "cell_type": "code",
      "metadata": {
        "colab": {
          "base_uri": "https://localhost:8080/"
        },
        "id": "HyR3fddSY_nX",
        "outputId": "2227f923-7b19-4ecb-9a2e-b025fdd7cb50"
      },
      "source": [
        "train_generator = train_datagen.flow_from_directory(\n",
        "        train_dir,  # direktori data latih\n",
        "        target_size=(150, 150),  # mengubah resolusi seluruh gambar menjadi 150x150 piksel\n",
        "        batch_size=32,\n",
        "        # karena kita merupakan masalah klasifikasi 2 kelas maka menggunakan class_mode = 'binary'\n",
        "        class_mode='binary')\n",
        " \n",
        "validation_generator = test_datagen.flow_from_directory(\n",
        "        validation_dir, # direktori data validasi\n",
        "        target_size=(150, 150), # mengubah resolusi seluruh gambar menjadi 150x150 piksel\n",
        "        batch_size=32, # karena kita merupakan masalah klasifikasi 2 kelas maka menggunakan class_mode = 'binary'\n",
        "        class_mode='binary')"
      ],
      "execution_count": null,
      "outputs": [
        {
          "output_type": "stream",
          "text": [
            "Found 192 images belonging to 2 classes.\n",
            "Found 20 images belonging to 2 classes.\n"
          ],
          "name": "stdout"
        }
      ]
    },
    {
      "cell_type": "code",
      "metadata": {
        "id": "KhN07Ov2ZMIe"
      },
      "source": [
        "# Setelah data telah siap, kita bisa membangun arsitektur sebuah CNN"
      ],
      "execution_count": null,
      "outputs": []
    },
    {
      "cell_type": "code",
      "metadata": {
        "id": "UO3UBSbSZcYW"
      },
      "source": [
        "#  Anda tentu masih ingat bahwa fungsi dari layer konvolusi adalah untuk mengekstraksi atribut pada gambar. \n",
        "#  Sedangkan layer max pooling berguna untuk mereduksi resolusi gambar sehingga proses pelatihan MLP lebih cepat."
      ],
      "execution_count": null,
      "outputs": []
    },
    {
      "cell_type": "code",
      "metadata": {
        "id": "jw1zIwomaopu"
      },
      "source": [
        "model = tf.keras.models.Sequential([\n",
        "    tf.keras.layers.Conv2D(32, (3,3), activation='relu', input_shape=(150, 150, 3)), # 32 filter, (3,3) kernelnya, aktifatornya menggunakan relu input demensi 150x150x3 (3 untuk rgb)\n",
        "    tf.keras.layers.MaxPooling2D(2, 2),\n",
        "    tf.keras.layers.Conv2D(64, (3,3), activation='relu'),\n",
        "    tf.keras.layers.MaxPooling2D(2,2),\n",
        "    tf.keras.layers.Conv2D(128, (3,3), activation='relu'),\n",
        "    tf.keras.layers.MaxPooling2D(2,2),\n",
        "    tf.keras.layers.Conv2D(128, (3,3), activation='relu'),\n",
        "    tf.keras.layers.MaxPooling2D(2,2),\n",
        "    tf.keras.layers.Flatten(),\n",
        "    tf.keras.layers.Dense(512, activation='relu', ),\n",
        "    tf.keras.layers.Dense(1, activation='sigmoid')\n",
        "])"
      ],
      "execution_count": null,
      "outputs": []
    },
    {
      "cell_type": "code",
      "metadata": {
        "id": "g1dp7Q7mfRiU"
      },
      "source": [
        "# compile model dengan 'adam' optimizer loss function 'binary_crossentropy' \n",
        "model.compile(loss='binary_crossentropy',\n",
        "              optimizer=tf.optimizers.Adam(),\n",
        "              metrics=['accuracy'])"
      ],
      "execution_count": null,
      "outputs": []
    },
    {
      "cell_type": "code",
      "metadata": {
        "id": "KQSu4nMxfRcv"
      },
      "source": [
        " \"\"\" Setelah menentukan loss function dan optimizer pada CNN, kita dapat melatih model kita menggunakan metode fit. \n",
        " Dengan menggunakan image data generator, kita tidak perlu memasukkan parameter gambar dan labelnya. Image data generator secara otomatis melabeli \n",
        " sebuah gambar sesuai dengan direktori di mana ia disimpan. \n",
        " Contohnya sebuah gambar yang terdapat di direktori clean, secara otomatis akan diberi label “clean” oleh image data generator."
      ],
      "execution_count": null,
      "outputs": []
    },
    {
      "cell_type": "code",
      "metadata": {
        "colab": {
          "base_uri": "https://localhost:8080/"
        },
        "id": "wro14nfe363b",
        "outputId": "9f9047cb-fbcf-4ef9-a246-0d707a1829e3"
      },
      "source": [
        "model.fit(\n",
        "      train_generator,\n",
        "      steps_per_epoch=25,  # berapa batch yang akan dieksekusi pada setiap epoch\n",
        "      epochs=100, #  iteration over the entire x and y data provided\n",
        "      validation_data=validation_generator, # menampilkan akurasi pengujian data validasi\n",
        "      validation_steps=5,  # berapa batch yang akan dieksekusi pada setiap epoch\n",
        "      verbose=2)"
      ],
      "execution_count": null,
      "outputs": [
        {
          "output_type": "stream",
          "text": [
            "Epoch 1/100\n",
            "WARNING:tensorflow:7 out of the last 11 calls to <function Model.make_test_function.<locals>.test_function at 0x7f1d187df4d0> triggered tf.function retracing. Tracing is expensive and the excessive number of tracings could be due to (1) creating @tf.function repeatedly in a loop, (2) passing tensors with different shapes, (3) passing Python objects instead of tensors. For (1), please define your @tf.function outside of the loop. For (2), @tf.function has experimental_relax_shapes=True option that relaxes argument shapes that can avoid unnecessary retracing. For (3), please refer to https://www.tensorflow.org/guide/function#controlling_retracing and https://www.tensorflow.org/api_docs/python/tf/function for  more details.\n",
            "WARNING:tensorflow:Your input ran out of data; interrupting training. Make sure that your dataset or generator can generate at least `steps_per_epoch * epochs` batches (in this case, 5 batches). You may need to use the repeat() function when building your dataset.\n",
            "25/25 - 8s - loss: 0.7234 - accuracy: 0.4836 - val_loss: 0.6924 - val_accuracy: 0.6000\n",
            "Epoch 2/100\n",
            "25/25 - 7s - loss: 0.7014 - accuracy: 0.5840\n",
            "Epoch 3/100\n",
            "25/25 - 7s - loss: 0.6876 - accuracy: 0.5410\n",
            "Epoch 4/100\n",
            "25/25 - 7s - loss: 0.6881 - accuracy: 0.4960\n",
            "Epoch 5/100\n",
            "25/25 - 7s - loss: 0.6701 - accuracy: 0.6148\n",
            "Epoch 6/100\n",
            "25/25 - 7s - loss: 0.6708 - accuracy: 0.5820\n",
            "Epoch 7/100\n",
            "25/25 - 7s - loss: 0.6056 - accuracy: 0.7120\n",
            "Epoch 8/100\n",
            "25/25 - 7s - loss: 0.6854 - accuracy: 0.6148\n",
            "Epoch 9/100\n",
            "25/25 - 7s - loss: 0.6164 - accuracy: 0.7049\n",
            "Epoch 10/100\n",
            "25/25 - 7s - loss: 0.5616 - accuracy: 0.7377\n",
            "Epoch 11/100\n",
            "25/25 - 7s - loss: 0.6258 - accuracy: 0.7049\n",
            "Epoch 12/100\n",
            "25/25 - 7s - loss: 0.5881 - accuracy: 0.7049\n",
            "Epoch 13/100\n",
            "25/25 - 7s - loss: 0.6094 - accuracy: 0.6885\n",
            "Epoch 14/100\n",
            "25/25 - 7s - loss: 0.5613 - accuracy: 0.7541\n",
            "Epoch 15/100\n",
            "25/25 - 7s - loss: 0.5031 - accuracy: 0.7951\n",
            "Epoch 16/100\n",
            "25/25 - 7s - loss: 0.5465 - accuracy: 0.7200\n",
            "Epoch 17/100\n",
            "25/25 - 7s - loss: 0.4884 - accuracy: 0.7760\n",
            "Epoch 18/100\n",
            "25/25 - 7s - loss: 0.4716 - accuracy: 0.7951\n",
            "Epoch 19/100\n",
            "25/25 - 7s - loss: 0.5549 - accuracy: 0.7377\n",
            "Epoch 20/100\n",
            "25/25 - 7s - loss: 0.5715 - accuracy: 0.6721\n",
            "Epoch 21/100\n",
            "25/25 - 7s - loss: 0.5387 - accuracy: 0.7360\n",
            "Epoch 22/100\n",
            "25/25 - 7s - loss: 0.5104 - accuracy: 0.7623\n",
            "Epoch 23/100\n",
            "25/25 - 7s - loss: 0.4419 - accuracy: 0.8115\n",
            "Epoch 24/100\n",
            "25/25 - 7s - loss: 0.4591 - accuracy: 0.8160\n",
            "Epoch 25/100\n",
            "25/25 - 7s - loss: 0.4613 - accuracy: 0.7541\n",
            "Epoch 26/100\n",
            "25/25 - 7s - loss: 0.4018 - accuracy: 0.8160\n",
            "Epoch 27/100\n",
            "25/25 - 7s - loss: 0.4004 - accuracy: 0.8197\n",
            "Epoch 28/100\n",
            "25/25 - 7s - loss: 0.4144 - accuracy: 0.8443\n",
            "Epoch 29/100\n",
            "25/25 - 7s - loss: 0.4736 - accuracy: 0.8320\n",
            "Epoch 30/100\n",
            "25/25 - 7s - loss: 0.4298 - accuracy: 0.8000\n",
            "Epoch 31/100\n",
            "25/25 - 7s - loss: 0.4354 - accuracy: 0.8160\n",
            "Epoch 32/100\n",
            "25/25 - 7s - loss: 0.3677 - accuracy: 0.8197\n",
            "Epoch 33/100\n",
            "25/25 - 7s - loss: 0.3959 - accuracy: 0.7869\n",
            "Epoch 34/100\n",
            "25/25 - 7s - loss: 0.3498 - accuracy: 0.8640\n",
            "Epoch 35/100\n",
            "25/25 - 7s - loss: 0.2982 - accuracy: 0.8934\n",
            "Epoch 36/100\n",
            "25/25 - 7s - loss: 0.3769 - accuracy: 0.8361\n",
            "Epoch 37/100\n",
            "25/25 - 7s - loss: 0.3018 - accuracy: 0.8720\n",
            "Epoch 38/100\n",
            "25/25 - 7s - loss: 0.3273 - accuracy: 0.8607\n",
            "Epoch 39/100\n",
            "25/25 - 7s - loss: 0.3604 - accuracy: 0.8689\n",
            "Epoch 40/100\n",
            "25/25 - 7s - loss: 0.2619 - accuracy: 0.8852\n",
            "Epoch 41/100\n",
            "25/25 - 7s - loss: 0.2597 - accuracy: 0.9180\n",
            "Epoch 42/100\n",
            "25/25 - 7s - loss: 0.3128 - accuracy: 0.8607\n",
            "Epoch 43/100\n",
            "25/25 - 7s - loss: 0.2609 - accuracy: 0.8934\n",
            "Epoch 44/100\n",
            "25/25 - 7s - loss: 0.3489 - accuracy: 0.8800\n",
            "Epoch 45/100\n",
            "25/25 - 7s - loss: 0.2536 - accuracy: 0.9098\n",
            "Epoch 46/100\n",
            "25/25 - 7s - loss: 0.2265 - accuracy: 0.8934\n",
            "Epoch 47/100\n",
            "25/25 - 7s - loss: 0.2712 - accuracy: 0.9098\n",
            "Epoch 48/100\n",
            "25/25 - 7s - loss: 0.2087 - accuracy: 0.9098\n",
            "Epoch 49/100\n",
            "25/25 - 7s - loss: 0.1998 - accuracy: 0.9426\n",
            "Epoch 50/100\n",
            "25/25 - 7s - loss: 0.1755 - accuracy: 0.9120\n",
            "Epoch 51/100\n",
            "25/25 - 7s - loss: 0.1882 - accuracy: 0.9440\n",
            "Epoch 52/100\n",
            "25/25 - 7s - loss: 0.1570 - accuracy: 0.9508\n",
            "Epoch 53/100\n",
            "25/25 - 7s - loss: 0.2999 - accuracy: 0.8852\n",
            "Epoch 54/100\n",
            "25/25 - 7s - loss: 0.1599 - accuracy: 0.9426\n",
            "Epoch 55/100\n",
            "25/25 - 7s - loss: 0.2256 - accuracy: 0.9016\n",
            "Epoch 56/100\n",
            "25/25 - 7s - loss: 0.1424 - accuracy: 0.9360\n",
            "Epoch 57/100\n",
            "25/25 - 7s - loss: 0.1714 - accuracy: 0.9590\n",
            "Epoch 58/100\n",
            "25/25 - 7s - loss: 0.1989 - accuracy: 0.9040\n",
            "Epoch 59/100\n",
            "25/25 - 7s - loss: 0.1222 - accuracy: 0.9680\n",
            "Epoch 60/100\n",
            "25/25 - 7s - loss: 0.1402 - accuracy: 0.9344\n",
            "Epoch 61/100\n",
            "25/25 - 7s - loss: 0.0809 - accuracy: 0.9754\n",
            "Epoch 62/100\n",
            "25/25 - 7s - loss: 0.0506 - accuracy: 0.9836\n",
            "Epoch 63/100\n",
            "25/25 - 7s - loss: 0.2956 - accuracy: 0.9180\n",
            "Epoch 64/100\n",
            "25/25 - 7s - loss: 0.1551 - accuracy: 0.9426\n",
            "Epoch 65/100\n",
            "25/25 - 7s - loss: 0.1230 - accuracy: 0.9590\n",
            "Epoch 66/100\n",
            "25/25 - 7s - loss: 0.1463 - accuracy: 0.9262\n",
            "Epoch 67/100\n",
            "25/25 - 7s - loss: 0.0901 - accuracy: 0.9680\n",
            "Epoch 68/100\n",
            "25/25 - 7s - loss: 0.1440 - accuracy: 0.9672\n",
            "Epoch 69/100\n",
            "25/25 - 7s - loss: 0.0397 - accuracy: 1.0000\n",
            "Epoch 70/100\n",
            "25/25 - 7s - loss: 0.0596 - accuracy: 0.9836\n",
            "Epoch 71/100\n",
            "25/25 - 7s - loss: 0.1244 - accuracy: 0.9590\n",
            "Epoch 72/100\n",
            "25/25 - 7s - loss: 0.2318 - accuracy: 0.9262\n",
            "Epoch 73/100\n",
            "25/25 - 7s - loss: 0.2014 - accuracy: 0.9016\n",
            "Epoch 74/100\n",
            "25/25 - 7s - loss: 0.0997 - accuracy: 0.9590\n",
            "Epoch 75/100\n",
            "25/25 - 7s - loss: 0.0527 - accuracy: 0.9840\n",
            "Epoch 76/100\n",
            "25/25 - 7s - loss: 0.0651 - accuracy: 0.9672\n",
            "Epoch 77/100\n",
            "25/25 - 7s - loss: 0.1034 - accuracy: 0.9508\n",
            "Epoch 78/100\n",
            "25/25 - 7s - loss: 0.0613 - accuracy: 0.9754\n",
            "Epoch 79/100\n",
            "25/25 - 7s - loss: 0.0556 - accuracy: 0.9836\n",
            "Epoch 80/100\n",
            "25/25 - 7s - loss: 0.0230 - accuracy: 1.0000\n",
            "Epoch 81/100\n",
            "25/25 - 7s - loss: 0.0386 - accuracy: 0.9836\n",
            "Epoch 82/100\n",
            "25/25 - 7s - loss: 0.0150 - accuracy: 1.0000\n",
            "Epoch 83/100\n",
            "25/25 - 7s - loss: 0.0347 - accuracy: 0.9840\n",
            "Epoch 84/100\n",
            "25/25 - 7s - loss: 0.0376 - accuracy: 0.9836\n",
            "Epoch 85/100\n",
            "25/25 - 7s - loss: 0.0097 - accuracy: 1.0000\n",
            "Epoch 86/100\n",
            "25/25 - 7s - loss: 0.0397 - accuracy: 0.9836\n",
            "Epoch 87/100\n",
            "25/25 - 7s - loss: 0.0179 - accuracy: 0.9920\n",
            "Epoch 88/100\n",
            "25/25 - 7s - loss: 0.0326 - accuracy: 0.9918\n",
            "Epoch 89/100\n",
            "25/25 - 7s - loss: 0.1513 - accuracy: 0.9590\n",
            "Epoch 90/100\n",
            "25/25 - 7s - loss: 0.2434 - accuracy: 0.9344\n",
            "Epoch 91/100\n",
            "25/25 - 7s - loss: 0.0832 - accuracy: 0.9672\n",
            "Epoch 92/100\n",
            "25/25 - 7s - loss: 0.0452 - accuracy: 0.9918\n",
            "Epoch 93/100\n",
            "25/25 - 7s - loss: 0.0257 - accuracy: 1.0000\n",
            "Epoch 94/100\n",
            "25/25 - 7s - loss: 0.0159 - accuracy: 1.0000\n",
            "Epoch 95/100\n",
            "25/25 - 7s - loss: 0.0318 - accuracy: 0.9918\n",
            "Epoch 96/100\n",
            "25/25 - 7s - loss: 0.0613 - accuracy: 0.9760\n",
            "Epoch 97/100\n",
            "25/25 - 7s - loss: 0.1695 - accuracy: 0.9440\n",
            "Epoch 98/100\n",
            "25/25 - 7s - loss: 0.0799 - accuracy: 0.9590\n",
            "Epoch 99/100\n",
            "25/25 - 7s - loss: 0.0857 - accuracy: 0.9680\n",
            "Epoch 100/100\n",
            "25/25 - 7s - loss: 0.0992 - accuracy: 0.9590\n"
          ],
          "name": "stdout"
        },
        {
          "output_type": "execute_result",
          "data": {
            "text/plain": [
              "<tensorflow.python.keras.callbacks.History at 0x7f1d187cc750>"
            ]
          },
          "metadata": {
            "tags": []
          },
          "execution_count": 230
        }
      ]
    },
    {
      "cell_type": "code",
      "metadata": {
        "colab": {
          "base_uri": "https://localhost:8080/"
        },
        "id": "V4HZ7-hKvmon",
        "outputId": "9ece6311-ff50-4847-cce8-2414f748db89"
      },
      "source": [
        "#import numpy as np\n",
        "#from google.colab import files\n",
        "from keras.preprocessing import image\n",
        "import matplotlib.pyplot as plt\n",
        "import matplotlib.image as mpimg\n",
        "%matplotlib inline\n",
        " \n",
        "img = image.load_img('9.png', target_size=(150,150))\n",
        "x = image.img_to_array(img)\n",
        "x = np.expand_dims(x, axis=0)\n",
        " \n",
        "images = np.vstack([x])\n",
        "classes = model.predict(images, batch_size=10)\n",
        "print(classes)\n",
        "if classes == 0:\n",
        "  print('kamar bersih')\n",
        "else:\n",
        "  print('kamar kotor')"
      ],
      "execution_count": null,
      "outputs": [
        {
          "output_type": "stream",
          "text": [
            "[[1.]]\n",
            "kamar kotor\n"
          ],
          "name": "stdout"
        }
      ]
    },
    {
      "cell_type": "markdown",
      "source": [
        "**diatas prediksi bahwa kamar KOTOR**"
      ],
      "metadata": {
        "id": "VYWidqjvBYK7"
      }
    },
    {
      "cell_type": "code",
      "metadata": {
        "id": "V63GQA3n1Cq0"
      },
      "source": [
        "image = tf.zeros([5,5,3])\n",
        "tf.expand_dims(image, axis=0)"
      ],
      "execution_count": null,
      "outputs": []
    },
    {
      "cell_type": "code",
      "metadata": {
        "id": "OcCJ4Hvv7Xoz"
      },
      "source": [
        "classifier.add(Conv2D(32, (3, 3), input_shape = (64, 64, 3), activation = 'relu'))\n",
        "\n",
        "\"\"\"parameter pertama (32) adalah nilai filter nya. parameter kedua adalah dimensi filter nya (3×3), parameter ketiga cukup self \n",
        "    explained disini yakni bentuk input nya dan tipe nya (RGB atau Black/white), \n",
        "    parameter keempat adalah fungsi aktivasi yang kita gunakan (relu) disini kita menggunakan rectifier function."
      ],
      "execution_count": null,
      "outputs": []
    }
  ]
}